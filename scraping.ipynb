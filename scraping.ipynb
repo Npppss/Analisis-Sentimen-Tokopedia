{
 "cells": [
  {
   "cell_type": "markdown",
   "metadata": {},
   "source": [
    "# Part 1: Scraping Data Review Tokopedia dari PlayStore\n",
    "\n",
    "Notebook ini berisi kode untuk melakukan scraping data review aplikasi Tokopedia dari Google PlayStore."
   ]
  },
  {
   "cell_type": "markdown",
   "metadata": {},
   "source": [
    "## Import Library yang Diperlukan"
   ]
  },
  {
   "cell_type": "code",
   "execution_count": 11,
   "metadata": {},
   "outputs": [],
   "source": [
    "import pandas as pd\n",
    "import numpy as np\n",
    "import matplotlib.pyplot as plt\n",
    "import seaborn as sns\n",
    "from google_play_scraper import Sort, reviews_all\n",
    "import warnings\n",
    "warnings.filterwarnings('ignore')"
   ]
  },
  {
   "cell_type": "markdown",
   "metadata": {},
   "source": [
    "## Fungsi untuk Scraping Review"
   ]
  },
  {
   "cell_type": "code",
   "execution_count": 12,
   "metadata": {},
   "outputs": [],
   "source": [
    "def scrape_playstore_reviews(app_id, count=20000):\n",
    "    print(f\"Mengambil review untuk aplikasi dengan ID: {app_id}\")\n",
    "\n",
    "    # Scraping menggunakan reviews_all() tanpa unpacking\n",
    "    result = reviews_all(\n",
    "        app_id,\n",
    "        lang='id',  # Bahasa Indonesia\n",
    "        country='id',  # Indonesia\n",
    "        sort=Sort.NEWEST,  # Sortir berdasarkan yang terbaru\n",
    "    )\n",
    "        # Membuat DataFrame dari hasil scraping\n",
    "    df = pd.DataFrame(result)\n",
    "\n",
    "    # Mengambil kolom yang diperlukan\n",
    "    df = df[['content', 'score', 'at']]\n",
    "\n",
    "    # Membatasi jumlah data jika lebih dari count\n",
    "    if len(df) > count:\n",
    "        df = df.iloc[:count]\n",
    "\n",
    "    print(f\"Berhasil mengambil {len(df)} review\")\n",
    "    return df"
   ]
  },
  {
   "cell_type": "markdown",
   "metadata": {},
   "source": [
    "## Mengambil Data Review Tokopedia"
   ]
  },
  {
   "cell_type": "code",
   "execution_count": 13,
   "metadata": {},
   "outputs": [
    {
     "name": "stdout",
     "output_type": "stream",
     "text": [
      "Mengambil review untuk aplikasi dengan ID: com.tokopedia.tkpd\n",
      "Berhasil mengambil 20000 review\n"
     ]
    }
   ],
   "source": [
    "# ID aplikasi Tokopedia di PlayStore\n",
    "app_id = 'com.tokopedia.tkpd'\n",
    "\n",
    "# Jalankan fungsi untuk mendapatkan review\n",
    "df_reviews = scrape_playstore_reviews(app_id)"
   ]
  },
  {
   "cell_type": "markdown",
   "metadata": {},
   "source": [
    "## Melihat Data yang Telah Diambil"
   ]
  },
  {
   "cell_type": "code",
   "execution_count": 14,
   "metadata": {},
   "outputs": [
    {
     "data": {
      "text/html": [
       "<div>\n",
       "<style scoped>\n",
       "    .dataframe tbody tr th:only-of-type {\n",
       "        vertical-align: middle;\n",
       "    }\n",
       "\n",
       "    .dataframe tbody tr th {\n",
       "        vertical-align: top;\n",
       "    }\n",
       "\n",
       "    .dataframe thead th {\n",
       "        text-align: right;\n",
       "    }\n",
       "</style>\n",
       "<table border=\"1\" class=\"dataframe\">\n",
       "  <thead>\n",
       "    <tr style=\"text-align: right;\">\n",
       "      <th></th>\n",
       "      <th>content</th>\n",
       "      <th>score</th>\n",
       "      <th>at</th>\n",
       "    </tr>\n",
       "  </thead>\n",
       "  <tbody>\n",
       "    <tr>\n",
       "      <th>0</th>\n",
       "      <td>apk tidak bisa beri ulasan barang yg sdh diter...</td>\n",
       "      <td>1</td>\n",
       "      <td>2025-03-19 21:22:48</td>\n",
       "    </tr>\n",
       "    <tr>\n",
       "      <th>1</th>\n",
       "      <td>bagus banget ini</td>\n",
       "      <td>5</td>\n",
       "      <td>2025-03-19 21:11:09</td>\n",
       "    </tr>\n",
       "    <tr>\n",
       "      <th>2</th>\n",
       "      <td>mantap</td>\n",
       "      <td>5</td>\n",
       "      <td>2025-03-19 21:10:00</td>\n",
       "    </tr>\n",
       "    <tr>\n",
       "      <th>3</th>\n",
       "      <td>aku nyaman banget di tokped keren ongkir grati...</td>\n",
       "      <td>5</td>\n",
       "      <td>2025-03-19 21:04:54</td>\n",
       "    </tr>\n",
       "    <tr>\n",
       "      <th>4</th>\n",
       "      <td>kurang gratis ongkir aja</td>\n",
       "      <td>5</td>\n",
       "      <td>2025-03-19 20:59:59</td>\n",
       "    </tr>\n",
       "  </tbody>\n",
       "</table>\n",
       "</div>"
      ],
      "text/plain": [
       "                                             content  score  \\\n",
       "0  apk tidak bisa beri ulasan barang yg sdh diter...      1   \n",
       "1                                   bagus banget ini      5   \n",
       "2                                             mantap      5   \n",
       "3  aku nyaman banget di tokped keren ongkir grati...      5   \n",
       "4                           kurang gratis ongkir aja      5   \n",
       "\n",
       "                   at  \n",
       "0 2025-03-19 21:22:48  \n",
       "1 2025-03-19 21:11:09  \n",
       "2 2025-03-19 21:10:00  \n",
       "3 2025-03-19 21:04:54  \n",
       "4 2025-03-19 20:59:59  "
      ]
     },
     "execution_count": 14,
     "metadata": {},
     "output_type": "execute_result"
    }
   ],
   "source": [
    "# Melihat 5 data pertama\n",
    "df_reviews.head()"
   ]
  },
  {
   "cell_type": "code",
   "execution_count": 15,
   "metadata": {},
   "outputs": [
    {
     "name": "stdout",
     "output_type": "stream",
     "text": [
      "<class 'pandas.core.frame.DataFrame'>\n",
      "RangeIndex: 20000 entries, 0 to 19999\n",
      "Data columns (total 3 columns):\n",
      " #   Column   Non-Null Count  Dtype         \n",
      "---  ------   --------------  -----         \n",
      " 0   content  20000 non-null  object        \n",
      " 1   score    20000 non-null  int64         \n",
      " 2   at       20000 non-null  datetime64[ns]\n",
      "dtypes: datetime64[ns](1), int64(1), object(1)\n",
      "memory usage: 468.9+ KB\n"
     ]
    }
   ],
   "source": [
    "# Informasi umum tentang dataset\n",
    "df_reviews.info()"
   ]
  },
  {
   "cell_type": "code",
   "execution_count": 16,
   "metadata": {},
   "outputs": [
    {
     "data": {
      "text/html": [
       "<div>\n",
       "<style scoped>\n",
       "    .dataframe tbody tr th:only-of-type {\n",
       "        vertical-align: middle;\n",
       "    }\n",
       "\n",
       "    .dataframe tbody tr th {\n",
       "        vertical-align: top;\n",
       "    }\n",
       "\n",
       "    .dataframe thead th {\n",
       "        text-align: right;\n",
       "    }\n",
       "</style>\n",
       "<table border=\"1\" class=\"dataframe\">\n",
       "  <thead>\n",
       "    <tr style=\"text-align: right;\">\n",
       "      <th></th>\n",
       "      <th>score</th>\n",
       "      <th>at</th>\n",
       "    </tr>\n",
       "  </thead>\n",
       "  <tbody>\n",
       "    <tr>\n",
       "      <th>count</th>\n",
       "      <td>20000.000000</td>\n",
       "      <td>20000</td>\n",
       "    </tr>\n",
       "    <tr>\n",
       "      <th>mean</th>\n",
       "      <td>3.398150</td>\n",
       "      <td>2025-01-07 05:07:52.516850176</td>\n",
       "    </tr>\n",
       "    <tr>\n",
       "      <th>min</th>\n",
       "      <td>1.000000</td>\n",
       "      <td>2024-11-04 09:23:34</td>\n",
       "    </tr>\n",
       "    <tr>\n",
       "      <th>25%</th>\n",
       "      <td>1.000000</td>\n",
       "      <td>2024-12-03 21:00:23</td>\n",
       "    </tr>\n",
       "    <tr>\n",
       "      <th>50%</th>\n",
       "      <td>5.000000</td>\n",
       "      <td>2025-01-03 05:37:26.500000</td>\n",
       "    </tr>\n",
       "    <tr>\n",
       "      <th>75%</th>\n",
       "      <td>5.000000</td>\n",
       "      <td>2025-02-12 11:50:13.249999872</td>\n",
       "    </tr>\n",
       "    <tr>\n",
       "      <th>max</th>\n",
       "      <td>5.000000</td>\n",
       "      <td>2025-03-19 21:22:48</td>\n",
       "    </tr>\n",
       "    <tr>\n",
       "      <th>std</th>\n",
       "      <td>1.807675</td>\n",
       "      <td>NaN</td>\n",
       "    </tr>\n",
       "  </tbody>\n",
       "</table>\n",
       "</div>"
      ],
      "text/plain": [
       "              score                             at\n",
       "count  20000.000000                          20000\n",
       "mean       3.398150  2025-01-07 05:07:52.516850176\n",
       "min        1.000000            2024-11-04 09:23:34\n",
       "25%        1.000000            2024-12-03 21:00:23\n",
       "50%        5.000000     2025-01-03 05:37:26.500000\n",
       "75%        5.000000  2025-02-12 11:50:13.249999872\n",
       "max        5.000000            2025-03-19 21:22:48\n",
       "std        1.807675                            NaN"
      ]
     },
     "execution_count": 16,
     "metadata": {},
     "output_type": "execute_result"
    }
   ],
   "source": [
    "# Statistik deskriptif\n",
    "df_reviews.describe()"
   ]
  },
  {
   "cell_type": "markdown",
   "metadata": {},
   "source": [
    "## Visualisasi Distribusi Rating"
   ]
  },
  {
   "cell_type": "code",
   "execution_count": 17,
   "metadata": {},
   "outputs": [
    {
     "data": {
      "image/png": "[encoded data removed]",
      "text/plain": [
       "<Figure size 1000x600 with 1 Axes>"
      ]
     },
     "metadata": {},
     "output_type": "display_data"
    }
   ],
   "source": [
    "plt.figure(figsize=(10, 6))\n",
    "sns.countplot(x='score', data=df_reviews)\n",
    "plt.title('Distribusi Rating Review Tokopedia', fontsize=16)\n",
    "plt.xlabel('Rating (1-5)', fontsize=14)\n",
    "plt.ylabel('Jumlah Review', fontsize=14)\n",
    "plt.xticks(fontsize=12)\n",
    "plt.yticks(fontsize=12)\n",
    "plt.show()"
   ]
  },
  {
   "cell_type": "markdown",
   "metadata": {},
   "source": [
    "## Simpan Data ke CSV"
   ]
  },
  {
   "cell_type": "code",
   "execution_count": 18,
   "metadata": {},
   "outputs": [
    {
     "name": "stdout",
     "output_type": "stream",
     "text": [
      "Data berhasil disimpan ke 'tokopedia_reviews_raw.csv'\n"
     ]
    }
   ],
   "source": [
    "# Simpan data ke file CSV\n",
    "df_reviews.to_csv('tokopedia_reviews_raw.csv', index=False)\n",
    "print(\"Data berhasil disimpan ke 'tokopedia_reviews_raw.csv'\")"
   ]
  }
 ],
 "metadata": {
  "kernelspec": {
   "display_name": "Python 3",
   "language": "python",
   "name": "python3"
  },
  "language_info": {
   "codemirror_mode": {
    "name": "ipython",
    "version": 3
   },
   "file_extension": ".py",
   "mimetype": "text/x-python",
   "name": "python",
   "nbconvert_exporter": "python",
   "pygments_lexer": "ipython3",
   "version": "3.13.1"
  }
 },
 "nbformat": 4,
 "nbformat_minor": 4
}
